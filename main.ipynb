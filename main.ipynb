{
 "cells": [
  {
   "cell_type": "code",
   "execution_count": null,
   "metadata": {
    "application/vnd.databricks.v1+cell": {
     "cellMetadata": {
      "byteLimit": 2048000,
      "rowLimit": 10000
     },
     "inputWidgets": {},
     "nuid": "10c4938e-2f1d-4d1f-a778-f70a0c8a368c",
     "showTitle": false,
     "title": ""
    }
   },
   "outputs": [],
   "source": [
    "# \n",
    "# Synthetic Retail Dataset\n",
    "# Data Set Information\n",
    "# ====================\n",
    "# * Sales Orders: **sales_orders/sales_orders.json** records the customers' originating purchase order.\n",
    "# * Customers: **customers/customers.csv** contains those customers who are located in the US and are buying the finished products.\n",
    "#\n",
    "\n",
    "from pyspark.sql.functions import *\n",
    "from pyspark.sql.types import *\n",
    "import dlt\n",
    "\n",
    "@dlt.table(\n",
    "  comment=\"The customers buying finished products, ingested from /databricks-datasets.\"\n",
    ")\n",
    "def raw_customers():\n",
    "  return spark.read.csv('/databricks-datasets/retail-org/customers/customers.csv', header=True)\n"
   ]
  },
  {
   "cell_type": "code",
   "execution_count": null,
   "metadata": {
    "application/vnd.databricks.v1+cell": {
     "cellMetadata": {
      "byteLimit": 2048000,
      "rowLimit": 10000
     },
     "inputWidgets": {},
     "nuid": "6bfc2dab-3c5d-4cf4-bf1b-9f515c65df8c",
     "showTitle": false,
     "title": ""
    }
   },
   "outputs": [],
   "source": [
    "@dlt.table(\n",
    "  comment=\"The raw sales orders, ingested from /databricks-datasets.\",\n",
    "  table_properties={\n",
    "    \"stage\": \"bronze\",\n",
    "    \"pipelines.autoOptimize.managed\": \"true\"\n",
    "  }\n",
    ")\n",
    "def sales_orders_raw():\n",
    "  return (\n",
    "    spark.readStream.format(\"cloudFiles\") \\\n",
    "      .option(\"cloudFiles.schemaLocation\", \"/tmp/john.odwyer/pythonsalestest\") \\\n",
    "      .option(\"cloudFiles.format\", \"json\") \\\n",
    "      .option(\"cloudFiles.inferColumnTypes\", \"true\") \\\n",
    "      .load(\"/databricks-datasets/retail-org/sales_orders/\")\n",
    "  )"
   ]
  },
  {
   "cell_type": "code",
   "execution_count": null,
   "metadata": {
    "application/vnd.databricks.v1+cell": {
     "cellMetadata": {
      "byteLimit": 2048000,
      "rowLimit": 10000
     },
     "inputWidgets": {},
     "nuid": "334c244e-36b4-4ce3-a35c-db073eb36545",
     "showTitle": false,
     "title": ""
    }
   },
   "outputs": [],
   "source": [
    "@dlt.create_table(\n",
    "  comment=\"The cleaned sales orders with valid order_number(s) and partitioned by order_date\",\n",
    "  partition_cols=[\"order_date\"],\n",
    "  table_properties={\n",
    "    \"myCompanyPipeline.quality\": \"silver\",\n",
    "    \"pipelines.autoOptimize.managed\": \"true\"\n",
    "  }\n",
    ")\n",
    "@dlt.expect_or_drop(\"valid order_number\", \"order_number IS NOT NULL\")\n",
    "def sales_orders_cleaned():\n",
    "  df = dlt.read_stream(\"sales_orders_raw\").join(dlt.read(\"raw_customers\"), [\"customer_id\", \"customer_name\"], \"left\")\n",
    "  df = df.withColumn(\"order_datetime\", from_unixtime(df.order_datetime).cast(\"TIMESTAMP\")) \n",
    "  df = df.withColumn(\"order_date\", df.order_datetime.cast(\"DATE\")) \n",
    "  df = df.select(\"customer_id\", \"customer_name\", \"number_of_line_items\", \"order_datetime\", \"order_date\",\n",
    "    \"order_number\", \"ordered_products\", \"state\", \"city\", \"lon\", \"lat\", \"units_purchased\", \"loyalty_segment\")\n",
    "  return df\n"
   ]
  },
  {
   "cell_type": "code",
   "execution_count": null,
   "metadata": {
    "application/vnd.databricks.v1+cell": {
     "cellMetadata": {
      "byteLimit": 2048000,
      "rowLimit": 10000
     },
     "inputWidgets": {},
     "nuid": "1639991f-21af-47ee-acbf-544a89690e2a",
     "showTitle": false,
     "title": ""
    }
   },
   "outputs": [],
   "source": [
    "@dlt.create_table(\n",
    "  comment=\"Aggregated sales orders in LA\",\n",
    "  table_properties={\n",
    "    \"myCompanyPipeline.quality\": \"gold\",\n",
    "    \"pipelines.autoOptimize.managed\": \"true\"\n",
    "  }\n",
    ")\n",
    "def sales_order_in_la():\n",
    "  df = dlt.read_stream(\"sales_orders_cleaned\").where(\"city == 'Los Angeles'\") \n",
    "  df = df.select(df.city, df.order_date, df.customer_id, df.customer_name, explode(df.ordered_products).alias(\"ordered_products_explode\"))\n",
    "\n",
    "  dfAgg = df.groupBy(df.order_date, df.city, df.customer_id, df.customer_name, df.ordered_products_explode.curr.alias(\"currency\"))\\\n",
    "    .agg(sum(df.ordered_products_explode.price).alias(\"sales\"), sum(df.ordered_products_explode.qty).alias(\"quantity\"))\n",
    "\n",
    "  return dfAgg\n"
   ]
  },
  {
   "cell_type": "code",
   "execution_count": null,
   "metadata": {
    "application/vnd.databricks.v1+cell": {
     "cellMetadata": {
      "byteLimit": 2048000,
      "rowLimit": 10000
     },
     "inputWidgets": {},
     "nuid": "3ead4cd9-8176-4d1f-9453-03d1029600d6",
     "showTitle": false,
     "title": ""
    }
   },
   "outputs": [],
   "source": [
    "@dlt.create_table(\n",
    "  comment=\"Sales orders in Chicago\",\n",
    "  table_properties={\n",
    "    \"myCompanyPipeline.quality\": \"gold\",\n",
    "    \"pipelines.autoOptimize.managed\": \"true\"\n",
    "  }\n",
    ")\n",
    "def sales_order_in_chicago():\n",
    "  df = dlt.read_stream(\"sales_orders_cleaned\").where(\"city == 'Chicago'\") \n",
    "  df = df.select(df.city, df.order_date, df.customer_id, df.customer_name, explode(df.ordered_products).alias(\"ordered_products_explode\"))\n",
    "\n",
    "  dfAgg = df.groupBy(df.order_date, df.city, df.customer_id, df.customer_name, df.ordered_products_explode.curr.alias(\"currency\"))\\\n",
    "    .agg(sum(df.ordered_products_explode.price).alias(\"sales\"), sum(df.ordered_products_explode.qty).alias(\"quantity\"))\n",
    "\n",
    "  return dfAgg"
   ]
  }
 ],
 "metadata": {
  "application/vnd.databricks.v1+notebook": {
   "dashboards": [],
   "language": "python",
   "notebookMetadata": {
    "pythonIndentUnit": 4
   },
   "notebookName": "sample-DLT-pipeline-notebook",
   "widgets": {}
  },
  "language_info": {
   "name": "python"
  }
 },
 "nbformat": 4,
 "nbformat_minor": 0
}
